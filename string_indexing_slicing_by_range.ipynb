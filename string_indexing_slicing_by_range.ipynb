{
 "cells": [
  {
   "cell_type": "code",
   "execution_count": 1,
   "metadata": {},
   "outputs": [],
   "source": [
    "#String Indexing Slicing by range"
   ]
  },
  {
   "cell_type": "code",
   "execution_count": 24,
   "metadata": {},
   "outputs": [
    {
     "name": "stdout",
     "output_type": "stream",
     "text": [
      "Att\n",
      " Street, Beverly Hills, CA 8874\n",
      " Street, Beverly Hills, CA 8874\n",
      " C\n"
     ]
    }
   ],
   "source": [
    "address = \"Attractive Street, Beverly Hills, CA 8874\"\n",
    "\n",
    "print(address[0:3])\n",
    "print(address[10:100])\n",
    "print(address[10:])\n",
    "print(address[-8:-6])"
   ]
  },
  {
   "cell_type": "code",
   "execution_count": 28,
   "metadata": {},
   "outputs": [
    {
     "name": "stdout",
     "output_type": "stream",
     "text": [
      "s, CA 8874\n",
      "Attractive Street, Beverly Hill\n"
     ]
    }
   ],
   "source": [
    "print(address[-10:])\n",
    "print(address[:-10])"
   ]
  },
  {
   "cell_type": "code",
   "execution_count": null,
   "metadata": {},
   "outputs": [],
   "source": []
  }
 ],
 "metadata": {
  "kernelspec": {
   "display_name": "Python 3",
   "language": "python",
   "name": "python3"
  },
  "language_info": {
   "codemirror_mode": {
    "name": "ipython",
    "version": 3
   },
   "file_extension": ".py",
   "mimetype": "text/x-python",
   "name": "python",
   "nbconvert_exporter": "python",
   "pygments_lexer": "ipython3",
   "version": "3.8.2"
  }
 },
 "nbformat": 4,
 "nbformat_minor": 4
}
