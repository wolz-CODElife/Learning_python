{
 "cells": [
  {
   "cell_type": "code",
   "execution_count": 1,
   "metadata": {},
   "outputs": [],
   "source": [
    "#The elif statement"
   ]
  },
  {
   "cell_type": "code",
   "execution_count": 3,
   "metadata": {},
   "outputs": [
    {
     "name": "stdout",
     "output_type": "stream",
     "text": [
      "Positive!\n",
      "Negative!\n"
     ]
    }
   ],
   "source": [
    "def positive_or_negative(number):\n",
    "    if number > 0:\n",
    "        return \"Positive!\"\n",
    "    elif number < 0:\n",
    "        return \"Negative!\"\n",
    "    else:\n",
    "        return \"It's Zero\"\n",
    "\n",
    "print(positive_or_negative(5))\n",
    "print(positive_or_negative(-3))"
   ]
  },
  {
   "cell_type": "code",
   "execution_count": 5,
   "metadata": {},
   "outputs": [
    {
     "name": "stdout",
     "output_type": "stream",
     "text": [
      "7\n",
      "-1\n",
      "12\n",
      "0.75\n",
      "I don't know what you want me to do!\n"
     ]
    }
   ],
   "source": [
    "def calculator(operation, a, b):\n",
    "    if operation == \"add\":\n",
    "        return a + b\n",
    "    elif operation == \"subtract\":\n",
    "        return a - b\n",
    "    elif operation == \"multiply\":\n",
    "        return a * b\n",
    "    elif operation == \"divide\":\n",
    "        return a / b\n",
    "    else:\n",
    "        return \"I don't know what you want me to do!\"\n",
    "\n",
    "print(calculator(\"add\", 3, 4))\n",
    "print(calculator(\"subtract\", 3, 4))\n",
    "print(calculator(\"multiply\", 3, 4))\n",
    "print(calculator(\"divide\", 3, 4))\n",
    "print(calculator(\"transgorify\", 3, 4))"
   ]
  },
  {
   "cell_type": "code",
   "execution_count": null,
   "metadata": {},
   "outputs": [],
   "source": []
  }
 ],
 "metadata": {
  "kernelspec": {
   "display_name": "Python 3",
   "language": "python",
   "name": "python3"
  },
  "language_info": {
   "codemirror_mode": {
    "name": "ipython",
    "version": 3
   },
   "file_extension": ".py",
   "mimetype": "text/x-python",
   "name": "python",
   "nbconvert_exporter": "python",
   "pygments_lexer": "ipython3",
   "version": "3.8.2"
  }
 },
 "nbformat": 4,
 "nbformat_minor": 4
}
